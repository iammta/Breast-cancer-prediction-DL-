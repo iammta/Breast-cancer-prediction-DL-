{
 "cells": [
  {
   "cell_type": "markdown",
   "metadata": {
    "colab_type": "text",
    "id": "cDpNVUXUVmx5"
   },
   "source": [
    "# Breast Cancer Prediction"
   ]
  },
  {
   "cell_type": "markdown",
   "metadata": {
    "colab_type": "text",
    "id": "UEa8Sbc5Vb01"
   },
   "source": [
    "## Importing & Reading the data"
   ]
  },
  {
   "cell_type": "code",
   "execution_count": 1,
   "metadata": {
    "colab": {},
    "colab_type": "code",
    "id": "74w7i_hdY51X"
   },
   "outputs": [],
   "source": [
    "import pandas as pd"
   ]
  },
  {
   "cell_type": "markdown",
   "metadata": {
    "colab_type": "text",
    "id": "Oex88qd38Thn"
   },
   "source": [
    "In this first cell we will upload the CSV files that contain the pre-sorted and pre-normalized data. \n",
    "For these I used the Wisconsin breast cancer dataset, sorted it into training and test sets with the 'input' values to the Neural Network as 'X' values, and the expected 'output' (a 0 if benign and a 1 if malignant) as the 'Y' values.\n"
   ]
  },
  {
   "cell_type": "markdown",
   "metadata": {
    "colab_type": "text",
    "id": "AawbWHXxYteI"
   },
   "source": [
    "### Reading the files"
   ]
  },
  {
   "cell_type": "code",
   "execution_count": 2,
   "metadata": {
    "colab": {},
    "colab_type": "code",
    "id": "bXdzIeIDYrpP"
   },
   "outputs": [],
   "source": [
    "X_train = pd.read_csv(\"xtrain.csv\", header=None)\n",
    "Y_train = pd.read_csv(\"ytrain.csv\", header=None)\n",
    "X_test = pd.read_csv(\"xtest.csv\", header=None)\n",
    "Y_test = pd.read_csv(\"ytest.csv\", header=None)"
   ]
  },
  {
   "cell_type": "code",
   "execution_count": 3,
   "metadata": {},
   "outputs": [
    {
     "data": {
      "text/plain": [
       "((455, 30), (114, 30))"
      ]
     },
     "execution_count": 3,
     "metadata": {},
     "output_type": "execute_result"
    }
   ],
   "source": [
    "X_train.shape, X_test.shape"
   ]
  },
  {
   "cell_type": "markdown",
   "metadata": {
    "colab_type": "text",
    "id": "jkau259qVyrv"
   },
   "source": [
    "## Creating the Neural Network"
   ]
  },
  {
   "cell_type": "markdown",
   "metadata": {
    "colab_type": "text",
    "id": "bL4z0BArzqff"
   },
   "source": [
    "Now I'm going to use Keras to define a Neural network that will be trained off of this data. This Neural Network can then be used to predict future values for breast cancer presence. "
   ]
  },
  {
   "cell_type": "code",
   "execution_count": null,
   "metadata": {
    "colab": {
     "base_uri": "https://localhost:8080/",
     "height": 34
    },
    "colab_type": "code",
    "id": "LoWtmalR80De",
    "outputId": "fcf2c9f2-1ce2-4d64-83c2-7b675d112ff0"
   },
   "outputs": [
    {
     "name": "stderr",
     "output_type": "stream",
     "text": [
      "Using TensorFlow backend.\n",
      "C:\\Users\\TARIQ KHAN\\Anaconda3\\envs\\deeplearning\\lib\\site-packages\\tensorflow\\python\\framework\\dtypes.py:516: FutureWarning: Passing (type, 1) or '1type' as a synonym of type is deprecated; in a future version of numpy, it will be understood as (type, (1,)) / '(1,)type'.\n",
      "  _np_qint8 = np.dtype([(\"qint8\", np.int8, 1)])\n",
      "C:\\Users\\TARIQ KHAN\\Anaconda3\\envs\\deeplearning\\lib\\site-packages\\tensorflow\\python\\framework\\dtypes.py:517: FutureWarning: Passing (type, 1) or '1type' as a synonym of type is deprecated; in a future version of numpy, it will be understood as (type, (1,)) / '(1,)type'.\n",
      "  _np_quint8 = np.dtype([(\"quint8\", np.uint8, 1)])\n",
      "C:\\Users\\TARIQ KHAN\\Anaconda3\\envs\\deeplearning\\lib\\site-packages\\tensorflow\\python\\framework\\dtypes.py:518: FutureWarning: Passing (type, 1) or '1type' as a synonym of type is deprecated; in a future version of numpy, it will be understood as (type, (1,)) / '(1,)type'.\n",
      "  _np_qint16 = np.dtype([(\"qint16\", np.int16, 1)])\n",
      "C:\\Users\\TARIQ KHAN\\Anaconda3\\envs\\deeplearning\\lib\\site-packages\\tensorflow\\python\\framework\\dtypes.py:519: FutureWarning: Passing (type, 1) or '1type' as a synonym of type is deprecated; in a future version of numpy, it will be understood as (type, (1,)) / '(1,)type'.\n",
      "  _np_quint16 = np.dtype([(\"quint16\", np.uint16, 1)])\n",
      "C:\\Users\\TARIQ KHAN\\Anaconda3\\envs\\deeplearning\\lib\\site-packages\\tensorflow\\python\\framework\\dtypes.py:520: FutureWarning: Passing (type, 1) or '1type' as a synonym of type is deprecated; in a future version of numpy, it will be understood as (type, (1,)) / '(1,)type'.\n",
      "  _np_qint32 = np.dtype([(\"qint32\", np.int32, 1)])\n",
      "C:\\Users\\TARIQ KHAN\\Anaconda3\\envs\\deeplearning\\lib\\site-packages\\tensorflow\\python\\framework\\dtypes.py:525: FutureWarning: Passing (type, 1) or '1type' as a synonym of type is deprecated; in a future version of numpy, it will be understood as (type, (1,)) / '(1,)type'.\n",
      "  np_resource = np.dtype([(\"resource\", np.ubyte, 1)])\n"
     ]
    }
   ],
   "source": [
    "from keras.models import Sequential\n",
    "from keras.layers import Dense"
   ]
  },
  {
   "cell_type": "markdown",
   "metadata": {
    "colab_type": "text",
    "id": "auW0K0kIaCg_"
   },
   "source": [
    "### Specifying the type of the model"
   ]
  },
  {
   "cell_type": "code",
   "execution_count": null,
   "metadata": {
    "colab": {
     "base_uri": "https://localhost:8080/",
     "height": 72
    },
    "colab_type": "code",
    "id": "xcSDBVVvZjxc",
    "outputId": "a42f20a9-908f-4532-cc48-857e323a6e43"
   },
   "outputs": [],
   "source": [
    "classifier = Sequential() # Initialising the ANN"
   ]
  },
  {
   "cell_type": "markdown",
   "metadata": {
    "colab_type": "text",
    "id": "aGZqnstgZmLK"
   },
   "source": [
    "### Adding the layers of the Neural Network"
   ]
  },
  {
   "cell_type": "code",
   "execution_count": 6,
   "metadata": {
    "colab": {
     "base_uri": "https://localhost:8080/",
     "height": 107
    },
    "colab_type": "code",
    "id": "7-6bjvR9Zd7T",
    "outputId": "529c61d6-5c80-4f51-a86c-f6ef8027f735"
   },
   "outputs": [],
   "source": [
    "classifier.add(Dense(units = 16, activation = 'relu', input_dim = 30))\n",
    "classifier.add(Dense(units = 8, activation = 'relu'))\n",
    "classifier.add(Dense(units = 6, activation = 'relu'))\n",
    "classifier.add(Dense(units = 1, activation = 'sigmoid'))"
   ]
  },
  {
   "cell_type": "markdown",
   "metadata": {
    "colab_type": "text",
    "id": "cJ_MStxe9CbN"
   },
   "source": [
    "Once the Neural Network is defined, I now have to specify is the optimizer and loss function"
   ]
  },
  {
   "cell_type": "markdown",
   "metadata": {
    "colab_type": "text",
    "id": "yUXucNvdaURV"
   },
   "source": [
    "### Compiling the Neural Network"
   ]
  },
  {
   "cell_type": "code",
   "execution_count": 7,
   "metadata": {
    "colab": {
     "base_uri": "https://localhost:8080/",
     "height": 160
    },
    "colab_type": "code",
    "id": "wR2O00E39C7E",
    "outputId": "6bdc6d37-16cc-4405-839b-6aac9e7f42b0"
   },
   "outputs": [],
   "source": [
    "classifier.compile(optimizer = 'adam', loss = 'binary_crossentropy', metrics=['accuracy'])"
   ]
  },
  {
   "cell_type": "code",
   "execution_count": 8,
   "metadata": {},
   "outputs": [
    {
     "name": "stdout",
     "output_type": "stream",
     "text": [
      "Model: \"sequential_1\"\n",
      "_________________________________________________________________\n",
      "Layer (type)                 Output Shape              Param #   \n",
      "=================================================================\n",
      "dense_1 (Dense)              (None, 16)                496       \n",
      "_________________________________________________________________\n",
      "dense_2 (Dense)              (None, 8)                 136       \n",
      "_________________________________________________________________\n",
      "dense_3 (Dense)              (None, 6)                 54        \n",
      "_________________________________________________________________\n",
      "dense_4 (Dense)              (None, 1)                 7         \n",
      "=================================================================\n",
      "Total params: 693\n",
      "Trainable params: 693\n",
      "Non-trainable params: 0\n",
      "_________________________________________________________________\n"
     ]
    }
   ],
   "source": [
    "classifier.summary()"
   ]
  },
  {
   "cell_type": "markdown",
   "metadata": {
    "colab_type": "text",
    "id": "ZBJZBF2nWD6k"
   },
   "source": [
    "## Training the Neural Network"
   ]
  },
  {
   "cell_type": "markdown",
   "metadata": {
    "colab_type": "text",
    "id": "Mn9WPqaP9RmN"
   },
   "source": [
    "You now train the neural network using Classifier.fit, passing it the training data -- i.e. for this set of X, this is what the Y should look like. The NN will then spot the patterns in the data, and build a neural network that could replicate that. "
   ]
  },
  {
   "cell_type": "code",
   "execution_count": 9,
   "metadata": {
    "colab": {
     "base_uri": "https://localhost:8080/",
     "height": 1000
    },
    "colab_type": "code",
    "id": "1QlYnFgH9N49",
    "outputId": "124348c0-8929-4677-8396-ed7bd365ece0",
    "scrolled": true
   },
   "outputs": [
    {
     "name": "stdout",
     "output_type": "stream",
     "text": [
      "Train on 364 samples, validate on 91 samples\n",
      "Epoch 1/150\n",
      " - 0s - loss: 0.6917 - accuracy: 0.4835 - val_loss: 0.6533 - val_accuracy: 0.5934\n",
      "Epoch 2/150\n",
      " - 0s - loss: 0.6239 - accuracy: 0.7335 - val_loss: 0.5878 - val_accuracy: 0.8022\n",
      "Epoch 3/150\n",
      " - 0s - loss: 0.5550 - accuracy: 0.8462 - val_loss: 0.5172 - val_accuracy: 0.8901\n",
      "Epoch 4/150\n",
      " - 0s - loss: 0.4816 - accuracy: 0.8984 - val_loss: 0.4438 - val_accuracy: 0.9121\n",
      "Epoch 5/150\n",
      " - 0s - loss: 0.4112 - accuracy: 0.9148 - val_loss: 0.3747 - val_accuracy: 0.9451\n",
      "Epoch 6/150\n",
      " - 0s - loss: 0.3464 - accuracy: 0.9203 - val_loss: 0.3140 - val_accuracy: 0.9341\n",
      "Epoch 7/150\n",
      " - 0s - loss: 0.2930 - accuracy: 0.9258 - val_loss: 0.2638 - val_accuracy: 0.9451\n",
      "Epoch 8/150\n",
      " - 0s - loss: 0.2520 - accuracy: 0.9341 - val_loss: 0.2233 - val_accuracy: 0.9560\n",
      "Epoch 9/150\n",
      " - 0s - loss: 0.2202 - accuracy: 0.9396 - val_loss: 0.1901 - val_accuracy: 0.9670\n",
      "Epoch 10/150\n",
      " - 0s - loss: 0.1942 - accuracy: 0.9478 - val_loss: 0.1633 - val_accuracy: 0.9670\n",
      "Epoch 11/150\n",
      " - 0s - loss: 0.1729 - accuracy: 0.9505 - val_loss: 0.1417 - val_accuracy: 0.9780\n",
      "Epoch 12/150\n",
      " - 0s - loss: 0.1536 - accuracy: 0.9615 - val_loss: 0.1240 - val_accuracy: 0.9890\n",
      "Epoch 13/150\n",
      " - 0s - loss: 0.1385 - accuracy: 0.9670 - val_loss: 0.1095 - val_accuracy: 0.9890\n",
      "Epoch 14/150\n",
      " - 0s - loss: 0.1253 - accuracy: 0.9698 - val_loss: 0.0976 - val_accuracy: 0.9890\n",
      "Epoch 15/150\n",
      " - 0s - loss: 0.1140 - accuracy: 0.9753 - val_loss: 0.0886 - val_accuracy: 0.9890\n",
      "Epoch 16/150\n",
      " - 0s - loss: 0.1052 - accuracy: 0.9808 - val_loss: 0.0806 - val_accuracy: 0.9890\n",
      "Epoch 17/150\n",
      " - 0s - loss: 0.0974 - accuracy: 0.9835 - val_loss: 0.0747 - val_accuracy: 0.9890\n",
      "Epoch 18/150\n",
      " - 0s - loss: 0.0915 - accuracy: 0.9835 - val_loss: 0.0687 - val_accuracy: 0.9890\n",
      "Epoch 19/150\n",
      " - 0s - loss: 0.0870 - accuracy: 0.9835 - val_loss: 0.0640 - val_accuracy: 0.9890\n",
      "Epoch 20/150\n",
      " - 0s - loss: 0.0827 - accuracy: 0.9835 - val_loss: 0.0610 - val_accuracy: 0.9890\n",
      "Epoch 21/150\n",
      " - 0s - loss: 0.0794 - accuracy: 0.9835 - val_loss: 0.0583 - val_accuracy: 0.9890\n",
      "Epoch 22/150\n",
      " - 0s - loss: 0.0767 - accuracy: 0.9835 - val_loss: 0.0558 - val_accuracy: 0.9890\n",
      "Epoch 23/150\n",
      " - 0s - loss: 0.0735 - accuracy: 0.9835 - val_loss: 0.0535 - val_accuracy: 0.9890\n",
      "Epoch 24/150\n",
      " - 0s - loss: 0.0713 - accuracy: 0.9863 - val_loss: 0.0514 - val_accuracy: 0.9890\n",
      "Epoch 25/150\n",
      " - 0s - loss: 0.0691 - accuracy: 0.9863 - val_loss: 0.0498 - val_accuracy: 0.9890\n",
      "Epoch 26/150\n",
      " - 0s - loss: 0.0674 - accuracy: 0.9863 - val_loss: 0.0482 - val_accuracy: 0.9890\n",
      "Epoch 27/150\n",
      " - 0s - loss: 0.0655 - accuracy: 0.9863 - val_loss: 0.0473 - val_accuracy: 0.9890\n",
      "Epoch 28/150\n",
      " - 0s - loss: 0.0640 - accuracy: 0.9863 - val_loss: 0.0459 - val_accuracy: 0.9890\n",
      "Epoch 29/150\n",
      " - 0s - loss: 0.0624 - accuracy: 0.9863 - val_loss: 0.0448 - val_accuracy: 0.9890\n",
      "Epoch 30/150\n",
      " - 0s - loss: 0.0614 - accuracy: 0.9863 - val_loss: 0.0436 - val_accuracy: 0.9890\n",
      "Epoch 31/150\n",
      " - 0s - loss: 0.0600 - accuracy: 0.9863 - val_loss: 0.0429 - val_accuracy: 0.9890\n",
      "Epoch 32/150\n",
      " - 0s - loss: 0.0586 - accuracy: 0.9863 - val_loss: 0.0423 - val_accuracy: 0.9890\n",
      "Epoch 33/150\n",
      " - 0s - loss: 0.0576 - accuracy: 0.9863 - val_loss: 0.0419 - val_accuracy: 0.9890\n",
      "Epoch 34/150\n",
      " - 0s - loss: 0.0566 - accuracy: 0.9863 - val_loss: 0.0414 - val_accuracy: 0.9890\n",
      "Epoch 35/150\n",
      " - 0s - loss: 0.0555 - accuracy: 0.9863 - val_loss: 0.0409 - val_accuracy: 0.9890\n",
      "Epoch 36/150\n",
      " - 0s - loss: 0.0547 - accuracy: 0.9863 - val_loss: 0.0410 - val_accuracy: 0.9890\n",
      "Epoch 37/150\n",
      " - 0s - loss: 0.0536 - accuracy: 0.9863 - val_loss: 0.0404 - val_accuracy: 0.9890\n",
      "Epoch 38/150\n",
      " - 0s - loss: 0.0528 - accuracy: 0.9863 - val_loss: 0.0400 - val_accuracy: 0.9890\n",
      "Epoch 39/150\n",
      " - 0s - loss: 0.0522 - accuracy: 0.9863 - val_loss: 0.0401 - val_accuracy: 0.9890\n",
      "Epoch 40/150\n",
      " - 0s - loss: 0.0513 - accuracy: 0.9890 - val_loss: 0.0391 - val_accuracy: 0.9890\n",
      "Epoch 41/150\n",
      " - 0s - loss: 0.0504 - accuracy: 0.9890 - val_loss: 0.0390 - val_accuracy: 0.9890\n",
      "Epoch 42/150\n",
      " - 0s - loss: 0.0498 - accuracy: 0.9890 - val_loss: 0.0386 - val_accuracy: 0.9890\n",
      "Epoch 43/150\n",
      " - 0s - loss: 0.0491 - accuracy: 0.9890 - val_loss: 0.0383 - val_accuracy: 0.9890\n",
      "Epoch 44/150\n",
      " - 0s - loss: 0.0485 - accuracy: 0.9890 - val_loss: 0.0380 - val_accuracy: 0.9890\n",
      "Epoch 45/150\n",
      " - 0s - loss: 0.0479 - accuracy: 0.9890 - val_loss: 0.0371 - val_accuracy: 0.9890\n",
      "Epoch 46/150\n",
      " - 0s - loss: 0.0475 - accuracy: 0.9890 - val_loss: 0.0383 - val_accuracy: 0.9890\n",
      "Epoch 47/150\n",
      " - 0s - loss: 0.0466 - accuracy: 0.9890 - val_loss: 0.0383 - val_accuracy: 0.9890\n",
      "Epoch 48/150\n",
      " - 0s - loss: 0.0460 - accuracy: 0.9890 - val_loss: 0.0380 - val_accuracy: 0.9890\n",
      "Epoch 49/150\n",
      " - 0s - loss: 0.0455 - accuracy: 0.9890 - val_loss: 0.0383 - val_accuracy: 0.9890\n",
      "Epoch 50/150\n",
      " - 0s - loss: 0.0448 - accuracy: 0.9890 - val_loss: 0.0375 - val_accuracy: 0.9890\n",
      "Epoch 51/150\n",
      " - 0s - loss: 0.0444 - accuracy: 0.9890 - val_loss: 0.0375 - val_accuracy: 0.9890\n",
      "Epoch 52/150\n",
      " - 0s - loss: 0.0441 - accuracy: 0.9890 - val_loss: 0.0381 - val_accuracy: 0.9890\n",
      "Epoch 53/150\n",
      " - 0s - loss: 0.0435 - accuracy: 0.9890 - val_loss: 0.0374 - val_accuracy: 0.9890\n",
      "Epoch 54/150\n",
      " - 0s - loss: 0.0431 - accuracy: 0.9890 - val_loss: 0.0373 - val_accuracy: 0.9890\n",
      "Epoch 55/150\n",
      " - 0s - loss: 0.0427 - accuracy: 0.9890 - val_loss: 0.0370 - val_accuracy: 0.9890\n",
      "Epoch 56/150\n",
      " - 0s - loss: 0.0421 - accuracy: 0.9890 - val_loss: 0.0370 - val_accuracy: 0.9890\n",
      "Epoch 57/150\n",
      " - 0s - loss: 0.0418 - accuracy: 0.9890 - val_loss: 0.0369 - val_accuracy: 0.9890\n",
      "Epoch 58/150\n",
      " - 0s - loss: 0.0413 - accuracy: 0.9890 - val_loss: 0.0365 - val_accuracy: 0.9890\n",
      "Epoch 59/150\n",
      " - 0s - loss: 0.0408 - accuracy: 0.9890 - val_loss: 0.0366 - val_accuracy: 0.9890\n",
      "Epoch 60/150\n",
      " - 0s - loss: 0.0404 - accuracy: 0.9890 - val_loss: 0.0386 - val_accuracy: 0.9780\n",
      "Epoch 61/150\n",
      " - 0s - loss: 0.0401 - accuracy: 0.9890 - val_loss: 0.0384 - val_accuracy: 0.9780\n",
      "Epoch 62/150\n",
      " - 0s - loss: 0.0396 - accuracy: 0.9890 - val_loss: 0.0393 - val_accuracy: 0.9780\n",
      "Epoch 63/150\n",
      " - 0s - loss: 0.0390 - accuracy: 0.9890 - val_loss: 0.0392 - val_accuracy: 0.9780\n",
      "Epoch 64/150\n",
      " - 0s - loss: 0.0385 - accuracy: 0.9890 - val_loss: 0.0390 - val_accuracy: 0.9780\n",
      "Epoch 65/150\n",
      " - 0s - loss: 0.0381 - accuracy: 0.9890 - val_loss: 0.0405 - val_accuracy: 0.9780\n",
      "Epoch 66/150\n",
      " - 0s - loss: 0.0376 - accuracy: 0.9890 - val_loss: 0.0406 - val_accuracy: 0.9780\n",
      "Epoch 67/150\n",
      " - 0s - loss: 0.0372 - accuracy: 0.9890 - val_loss: 0.0395 - val_accuracy: 0.9780\n",
      "Epoch 68/150\n",
      " - 0s - loss: 0.0369 - accuracy: 0.9890 - val_loss: 0.0393 - val_accuracy: 0.9780\n",
      "Epoch 69/150\n",
      " - 0s - loss: 0.0364 - accuracy: 0.9890 - val_loss: 0.0380 - val_accuracy: 0.9780\n",
      "Epoch 70/150\n",
      " - 0s - loss: 0.0360 - accuracy: 0.9890 - val_loss: 0.0379 - val_accuracy: 0.9780\n",
      "Epoch 71/150\n",
      " - 0s - loss: 0.0356 - accuracy: 0.9890 - val_loss: 0.0385 - val_accuracy: 0.9780\n",
      "Epoch 72/150\n",
      " - 0s - loss: 0.0352 - accuracy: 0.9890 - val_loss: 0.0390 - val_accuracy: 0.9780\n",
      "Epoch 73/150\n",
      " - 0s - loss: 0.0349 - accuracy: 0.9890 - val_loss: 0.0388 - val_accuracy: 0.9780\n",
      "Epoch 74/150\n",
      " - 0s - loss: 0.0345 - accuracy: 0.9890 - val_loss: 0.0387 - val_accuracy: 0.9780\n",
      "Epoch 75/150\n",
      " - 0s - loss: 0.0342 - accuracy: 0.9890 - val_loss: 0.0408 - val_accuracy: 0.9670\n",
      "Epoch 76/150\n",
      " - 0s - loss: 0.0336 - accuracy: 0.9890 - val_loss: 0.0424 - val_accuracy: 0.9670\n",
      "Epoch 77/150\n",
      " - 0s - loss: 0.0330 - accuracy: 0.9890 - val_loss: 0.0416 - val_accuracy: 0.9670\n",
      "Epoch 78/150\n",
      " - 0s - loss: 0.0321 - accuracy: 0.9890 - val_loss: 0.0415 - val_accuracy: 0.9670\n",
      "Epoch 79/150\n",
      " - 0s - loss: 0.0320 - accuracy: 0.9890 - val_loss: 0.0404 - val_accuracy: 0.9670\n",
      "Epoch 80/150\n",
      " - 0s - loss: 0.0314 - accuracy: 0.9890 - val_loss: 0.0402 - val_accuracy: 0.9670\n",
      "Epoch 81/150\n",
      " - 0s - loss: 0.0313 - accuracy: 0.9890 - val_loss: 0.0435 - val_accuracy: 0.9670\n",
      "Epoch 82/150\n",
      " - 0s - loss: 0.0305 - accuracy: 0.9890 - val_loss: 0.0421 - val_accuracy: 0.9670\n",
      "Epoch 83/150\n",
      " - 0s - loss: 0.0297 - accuracy: 0.9890 - val_loss: 0.0438 - val_accuracy: 0.9670\n",
      "Epoch 84/150\n",
      " - 0s - loss: 0.0292 - accuracy: 0.9890 - val_loss: 0.0445 - val_accuracy: 0.9670\n",
      "Epoch 85/150\n",
      " - 0s - loss: 0.0287 - accuracy: 0.9890 - val_loss: 0.0446 - val_accuracy: 0.9670\n",
      "Epoch 86/150\n",
      " - 0s - loss: 0.0285 - accuracy: 0.9890 - val_loss: 0.0439 - val_accuracy: 0.9670\n"
     ]
    },
    {
     "name": "stdout",
     "output_type": "stream",
     "text": [
      "Epoch 87/150\n",
      " - 0s - loss: 0.0281 - accuracy: 0.9890 - val_loss: 0.0422 - val_accuracy: 0.9670\n",
      "Epoch 88/150\n",
      " - 0s - loss: 0.0275 - accuracy: 0.9890 - val_loss: 0.0429 - val_accuracy: 0.9670\n",
      "Epoch 89/150\n",
      " - 0s - loss: 0.0270 - accuracy: 0.9918 - val_loss: 0.0441 - val_accuracy: 0.9670\n",
      "Epoch 90/150\n",
      " - 0s - loss: 0.0268 - accuracy: 0.9918 - val_loss: 0.0457 - val_accuracy: 0.9670\n",
      "Epoch 91/150\n",
      " - 0s - loss: 0.0262 - accuracy: 0.9918 - val_loss: 0.0449 - val_accuracy: 0.9670\n",
      "Epoch 92/150\n",
      " - 0s - loss: 0.0260 - accuracy: 0.9918 - val_loss: 0.0439 - val_accuracy: 0.9670\n",
      "Epoch 93/150\n",
      " - 0s - loss: 0.0258 - accuracy: 0.9918 - val_loss: 0.0422 - val_accuracy: 0.9670\n",
      "Epoch 94/150\n",
      " - 0s - loss: 0.0253 - accuracy: 0.9918 - val_loss: 0.0425 - val_accuracy: 0.9670\n",
      "Epoch 95/150\n",
      " - 0s - loss: 0.0249 - accuracy: 0.9918 - val_loss: 0.0439 - val_accuracy: 0.9670\n",
      "Epoch 96/150\n",
      " - 0s - loss: 0.0246 - accuracy: 0.9918 - val_loss: 0.0445 - val_accuracy: 0.9670\n",
      "Epoch 97/150\n",
      " - 0s - loss: 0.0243 - accuracy: 0.9918 - val_loss: 0.0441 - val_accuracy: 0.9670\n",
      "Epoch 98/150\n",
      " - 0s - loss: 0.0239 - accuracy: 0.9918 - val_loss: 0.0426 - val_accuracy: 0.9670\n",
      "Epoch 99/150\n",
      " - 0s - loss: 0.0240 - accuracy: 0.9918 - val_loss: 0.0440 - val_accuracy: 0.9670\n",
      "Epoch 100/150\n",
      " - 0s - loss: 0.0234 - accuracy: 0.9918 - val_loss: 0.0422 - val_accuracy: 0.9670\n",
      "Epoch 101/150\n",
      " - 0s - loss: 0.0232 - accuracy: 0.9918 - val_loss: 0.0435 - val_accuracy: 0.9670\n",
      "Epoch 102/150\n",
      " - 0s - loss: 0.0227 - accuracy: 0.9918 - val_loss: 0.0429 - val_accuracy: 0.9670\n",
      "Epoch 103/150\n",
      " - 0s - loss: 0.0225 - accuracy: 0.9918 - val_loss: 0.0430 - val_accuracy: 0.9670\n",
      "Epoch 104/150\n",
      " - 0s - loss: 0.0224 - accuracy: 0.9918 - val_loss: 0.0441 - val_accuracy: 0.9670\n",
      "Epoch 105/150\n",
      " - 0s - loss: 0.0220 - accuracy: 0.9918 - val_loss: 0.0422 - val_accuracy: 0.9670\n",
      "Epoch 106/150\n",
      " - 0s - loss: 0.0220 - accuracy: 0.9918 - val_loss: 0.0410 - val_accuracy: 0.9670\n",
      "Epoch 107/150\n",
      " - 0s - loss: 0.0214 - accuracy: 0.9918 - val_loss: 0.0419 - val_accuracy: 0.9670\n",
      "Epoch 108/150\n",
      " - 0s - loss: 0.0211 - accuracy: 0.9918 - val_loss: 0.0427 - val_accuracy: 0.9670\n",
      "Epoch 109/150\n",
      " - 0s - loss: 0.0209 - accuracy: 0.9918 - val_loss: 0.0436 - val_accuracy: 0.9670\n",
      "Epoch 110/150\n",
      " - 0s - loss: 0.0206 - accuracy: 0.9918 - val_loss: 0.0438 - val_accuracy: 0.9670\n",
      "Epoch 111/150\n",
      " - 0s - loss: 0.0203 - accuracy: 0.9918 - val_loss: 0.0428 - val_accuracy: 0.9670\n",
      "Epoch 112/150\n",
      " - 0s - loss: 0.0203 - accuracy: 0.9945 - val_loss: 0.0442 - val_accuracy: 0.9670\n",
      "Epoch 113/150\n",
      " - 0s - loss: 0.0198 - accuracy: 0.9945 - val_loss: 0.0437 - val_accuracy: 0.9670\n",
      "Epoch 114/150\n",
      " - 0s - loss: 0.0196 - accuracy: 0.9918 - val_loss: 0.0428 - val_accuracy: 0.9670\n",
      "Epoch 115/150\n",
      " - 0s - loss: 0.0194 - accuracy: 0.9945 - val_loss: 0.0429 - val_accuracy: 0.9670\n",
      "Epoch 116/150\n",
      " - 0s - loss: 0.0192 - accuracy: 0.9945 - val_loss: 0.0441 - val_accuracy: 0.9670\n",
      "Epoch 117/150\n",
      " - 0s - loss: 0.0190 - accuracy: 0.9945 - val_loss: 0.0440 - val_accuracy: 0.9670\n",
      "Epoch 118/150\n",
      " - 0s - loss: 0.0187 - accuracy: 0.9945 - val_loss: 0.0437 - val_accuracy: 0.9670\n",
      "Epoch 119/150\n",
      " - 0s - loss: 0.0186 - accuracy: 0.9945 - val_loss: 0.0442 - val_accuracy: 0.9670\n",
      "Epoch 120/150\n",
      " - 0s - loss: 0.0186 - accuracy: 0.9945 - val_loss: 0.0435 - val_accuracy: 0.9670\n",
      "Epoch 121/150\n",
      " - 0s - loss: 0.0183 - accuracy: 0.9945 - val_loss: 0.0442 - val_accuracy: 0.9670\n",
      "Epoch 122/150\n",
      " - 0s - loss: 0.0181 - accuracy: 0.9945 - val_loss: 0.0444 - val_accuracy: 0.9670\n",
      "Epoch 123/150\n",
      " - 0s - loss: 0.0178 - accuracy: 0.9945 - val_loss: 0.0437 - val_accuracy: 0.9670\n",
      "Epoch 124/150\n",
      " - 0s - loss: 0.0175 - accuracy: 0.9945 - val_loss: 0.0436 - val_accuracy: 0.9670\n",
      "Epoch 125/150\n",
      " - 0s - loss: 0.0176 - accuracy: 0.9945 - val_loss: 0.0424 - val_accuracy: 0.9670\n",
      "Epoch 126/150\n",
      " - 0s - loss: 0.0169 - accuracy: 0.9945 - val_loss: 0.0438 - val_accuracy: 0.9670\n",
      "Epoch 127/150\n",
      " - 0s - loss: 0.0169 - accuracy: 0.9945 - val_loss: 0.0438 - val_accuracy: 0.9670\n",
      "Epoch 128/150\n",
      " - 0s - loss: 0.0168 - accuracy: 0.9973 - val_loss: 0.0439 - val_accuracy: 0.9670\n",
      "Epoch 129/150\n",
      " - 0s - loss: 0.0166 - accuracy: 0.9973 - val_loss: 0.0429 - val_accuracy: 0.9670\n",
      "Epoch 130/150\n",
      " - 0s - loss: 0.0163 - accuracy: 0.9973 - val_loss: 0.0428 - val_accuracy: 0.9670\n",
      "Epoch 131/150\n",
      " - 0s - loss: 0.0162 - accuracy: 0.9973 - val_loss: 0.0432 - val_accuracy: 0.9670\n",
      "Epoch 132/150\n",
      " - 0s - loss: 0.0161 - accuracy: 0.9973 - val_loss: 0.0421 - val_accuracy: 0.9670\n",
      "Epoch 133/150\n",
      " - 0s - loss: 0.0160 - accuracy: 0.9973 - val_loss: 0.0429 - val_accuracy: 0.9670\n",
      "Epoch 134/150\n",
      " - 0s - loss: 0.0156 - accuracy: 0.9973 - val_loss: 0.0426 - val_accuracy: 0.9670\n",
      "Epoch 135/150\n",
      " - 0s - loss: 0.0155 - accuracy: 0.9973 - val_loss: 0.0416 - val_accuracy: 0.9670\n",
      "Epoch 136/150\n",
      " - 0s - loss: 0.0152 - accuracy: 0.9973 - val_loss: 0.0437 - val_accuracy: 0.9670\n",
      "Epoch 137/150\n",
      " - 0s - loss: 0.0154 - accuracy: 0.9973 - val_loss: 0.0443 - val_accuracy: 0.9670\n",
      "Epoch 138/150\n",
      " - 0s - loss: 0.0150 - accuracy: 0.9973 - val_loss: 0.0435 - val_accuracy: 0.9670\n",
      "Epoch 139/150\n",
      " - 0s - loss: 0.0148 - accuracy: 0.9973 - val_loss: 0.0428 - val_accuracy: 0.9670\n",
      "Epoch 140/150\n",
      " - 0s - loss: 0.0147 - accuracy: 0.9973 - val_loss: 0.0426 - val_accuracy: 0.9670\n",
      "Epoch 141/150\n",
      " - 0s - loss: 0.0145 - accuracy: 0.9973 - val_loss: 0.0418 - val_accuracy: 0.9670\n",
      "Epoch 142/150\n",
      " - 0s - loss: 0.0144 - accuracy: 0.9973 - val_loss: 0.0415 - val_accuracy: 0.9670\n",
      "Epoch 143/150\n",
      " - 0s - loss: 0.0142 - accuracy: 0.9973 - val_loss: 0.0414 - val_accuracy: 0.9670\n",
      "Epoch 144/150\n",
      " - 0s - loss: 0.0142 - accuracy: 0.9973 - val_loss: 0.0424 - val_accuracy: 0.9670\n",
      "Epoch 145/150\n",
      " - 0s - loss: 0.0140 - accuracy: 0.9973 - val_loss: 0.0433 - val_accuracy: 0.9670\n",
      "Epoch 146/150\n",
      " - 0s - loss: 0.0138 - accuracy: 0.9973 - val_loss: 0.0424 - val_accuracy: 0.9670\n",
      "Epoch 147/150\n",
      " - 0s - loss: 0.0137 - accuracy: 0.9973 - val_loss: 0.0412 - val_accuracy: 0.9670\n",
      "Epoch 148/150\n",
      " - 0s - loss: 0.0135 - accuracy: 0.9973 - val_loss: 0.0423 - val_accuracy: 0.9670\n",
      "Epoch 149/150\n",
      " - 0s - loss: 0.0133 - accuracy: 0.9973 - val_loss: 0.0433 - val_accuracy: 0.9670\n",
      "Epoch 150/150\n",
      " - 0s - loss: 0.0132 - accuracy: 0.9973 - val_loss: 0.0422 - val_accuracy: 0.9670\n"
     ]
    }
   ],
   "source": [
    "h = classifier.fit(X_train, Y_train, batch_size = 32, epochs = 150, verbose=1, validation_split=0.2)"
   ]
  },
  {
   "cell_type": "code",
   "execution_count": 10,
   "metadata": {},
   "outputs": [],
   "source": [
    "import matplotlib.pyplot as plt"
   ]
  },
  {
   "cell_type": "code",
   "execution_count": 12,
   "metadata": {},
   "outputs": [
    {
     "data": {
      "image/png": "[encoded data removed]",
      "text/plain": [
       "<Figure size 1152x432 with 2 Axes>"
      ]
     },
     "metadata": {
      "needs_background": "light"
     },
     "output_type": "display_data"
    }
   ],
   "source": [
    "plt.figure(figsize=(16,6))\n",
    "\n",
    "plt.subplot(1,2,1)\n",
    "plt.plot(range(1, 151), h.history['loss'], c='b', label='Training Loss')\n",
    "plt.plot(range(1, 151), h.history['val_loss'], c='g', label='Validation Loss')\n",
    "plt.legend()\n",
    "plt.title(\"Loss\")\n",
    "plt.xlabel('Epochs')\n",
    "plt.ylabel('Loss')\n",
    "\n",
    "plt.subplot(1,2,2)\n",
    "plt.plot(range(1, 151), h.history['accuracy'], c='b', label='Training Loss')\n",
    "plt.plot(range(1, 151), h.history['val_accuracy'], c='g', label='Validation Loss')\n",
    "plt.legend()\n",
    "plt.title('Accuracy')\n",
    "plt.xlabel('Epochs')\n",
    "plt.ylabel('Accuracy')\n",
    "\n",
    "plt.show()"
   ]
  },
  {
   "cell_type": "markdown",
   "metadata": {
    "colab_type": "text",
    "id": "4QkynTKWWLwC"
   },
   "source": [
    "## Making Predictions"
   ]
  },
  {
   "cell_type": "markdown",
   "metadata": {
    "colab_type": "text",
    "id": "yrnGgtfn9gsE"
   },
   "source": [
    "To predict new values, the Neural Network uses `classifier.predict()`. I'm going to pass it the test values for X (which the Neural Network hasn't previously seen) and it will give me back a set of predictions. These predicitons will be probabilities, so I will clean them up by saying that if thye are greater than .5, I'll make them 1, else I'll make them 0."
   ]
  },
  {
   "cell_type": "code",
   "execution_count": 13,
   "metadata": {},
   "outputs": [],
   "source": [
    "Y_pred = classifier.predict(X_test)"
   ]
  },
  {
   "cell_type": "code",
   "execution_count": 14,
   "metadata": {
    "colab": {},
    "colab_type": "code",
    "id": "xEaG0Tkx9fUU"
   },
   "outputs": [],
   "source": [
    "Y_pred = [ 1 if y>=0.5 else 0 for y in Y_pred ]"
   ]
  },
  {
   "cell_type": "markdown",
   "metadata": {
    "colab_type": "text",
    "id": "oQK3Qo9h97OW"
   },
   "source": [
    "Now we can loop through the set of predicitons for the test set (called Y_pred) and the actual values for the test set (celled Y_test), and see how alike they are -- if they are the same, I'll increment 'correct', otherwise I'll incrememnt 'wrong'. \n",
    "\n",
    "You'll see the result is 100% accurate, even though the neural network reported a lower accuracy than that. Why? "
   ]
  },
  {
   "cell_type": "markdown",
   "metadata": {
    "colab_type": "text",
    "id": "n5s8qW6PT8Ly"
   },
   "source": [
    "## Model Evaluation"
   ]
  },
  {
   "cell_type": "code",
   "execution_count": 15,
   "metadata": {
    "colab": {
     "base_uri": "https://localhost:8080/",
     "height": 70
    },
    "colab_type": "code",
    "id": "he_2VHJ_9yC1",
    "outputId": "2c9b99a7-92bd-417a-c6a1-dba70426d5ae"
   },
   "outputs": [
    {
     "name": "stdout",
     "output_type": "stream",
     "text": [
      "Total 114\n",
      "Correct 109\n",
      "Wrong 5\n"
     ]
    }
   ],
   "source": [
    "total = 0\n",
    "correct = 0\n",
    "wrong = 0\n",
    "for i in range(len(Y_pred)):\n",
    "    total=total+1\n",
    "    if(Y_test.at[i,0] == Y_pred[i]):\n",
    "        correct=correct+1\n",
    "    else:\n",
    "        wrong=wrong+1\n",
    "\n",
    "print(\"Total \" + str(total))\n",
    "print(\"Correct \" + str(correct))\n",
    "print(\"Wrong \" + str(wrong))"
   ]
  },
  {
   "cell_type": "markdown",
   "metadata": {
    "colab_type": "text",
    "id": "92qOgw5NYOau"
   },
   "source": [
    "### Confusion Matrix"
   ]
  },
  {
   "cell_type": "code",
   "execution_count": 16,
   "metadata": {
    "colab": {
     "base_uri": "https://localhost:8080/",
     "height": 269
    },
    "colab_type": "code",
    "id": "_m1Hk27dRdJr",
    "outputId": "10f9dd9b-f1c7-4f31-b88d-2078b4465e68"
   },
   "outputs": [
    {
     "data": {
      "image/png": "[encoded data removed]",
      "text/plain": [
       "<Figure size 432x288 with 2 Axes>"
      ]
     },
     "metadata": {
      "needs_background": "light"
     },
     "output_type": "display_data"
    }
   ],
   "source": [
    "from sklearn.metrics import confusion_matrix\n",
    "import seaborn as sns\n",
    "import matplotlib.pyplot as plt\n",
    "\n",
    "sns.heatmap(confusion_matrix(Y_test, Y_pred), annot=True, cmap='Blues')\n",
    "plt.xlabel('Predicted')\n",
    "plt.ylabel(\"Real\")\n",
    "plt.show()"
   ]
  },
  {
   "cell_type": "markdown",
   "metadata": {
    "colab_type": "text",
    "id": "NpVhaS-BYaT_"
   },
   "source": [
    "### Accuracy & Recall"
   ]
  },
  {
   "cell_type": "code",
   "execution_count": 17,
   "metadata": {
    "colab": {
     "base_uri": "https://localhost:8080/",
     "height": 52
    },
    "colab_type": "code",
    "id": "dDind4i0RjQG",
    "outputId": "41cacad2-8263-4ccc-90c6-fd960b99348a"
   },
   "outputs": [
    {
     "name": "stdout",
     "output_type": "stream",
     "text": [
      "Accuracy: 0.956140350877193\n",
      "Recall: 0.9574468085106383\n"
     ]
    }
   ],
   "source": [
    "from sklearn.metrics import recall_score, accuracy_score\n",
    "\n",
    "accuracy = accuracy_score(Y_test, Y_pred)\n",
    "recall = recall_score(Y_test, Y_pred)\n",
    "\n",
    "print(\"Accuracy: {}\\nRecall: {}\".format(accuracy, recall))"
   ]
  }
 ],
 "metadata": {
  "accelerator": "GPU",
  "colab": {
   "collapsed_sections": [],
   "name": "Breast Cancer Prediction (Deep Learning Model).ipynb",
   "provenance": []
  },
  "kernelspec": {
   "display_name": "Python 3",
   "language": "python",
   "name": "python3"
  },
  "language_info": {
   "codemirror_mode": {
    "name": "ipython",
    "version": 3
   },
   "file_extension": ".py",
   "mimetype": "text/x-python",
   "name": "python",
   "nbconvert_exporter": "python",
   "pygments_lexer": "ipython3",
   "version": "3.7.1"
  }
 },
 "nbformat": 4,
 "nbformat_minor": 1
}
